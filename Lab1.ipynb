{
 "cells": [
  {
   "cell_type": "markdown",
   "id": "d17f5034",
   "metadata": {},
   "source": [
    "# CSCN8010-S25-Sec1 Lab #1\n",
    "Erica Holden, 5490685"
   ]
  },
  {
   "cell_type": "markdown",
   "id": "2b87634e",
   "metadata": {},
   "source": [
    "## 1. Framing the Problem\n",
    "\n",
    "In this notebook, we will be loading the California Housing Prices Dataset from Kaggle and performing linear regressions showing the median house value against 3 different variables\n",
    "1. Median income\n",
    "2. Population\n",
    "3. Number of households"
   ]
  },
  {
   "cell_type": "code",
   "execution_count": null,
   "id": "855bd3c4",
   "metadata": {},
   "outputs": [],
   "source": [
    "%pip install --upgrade numpy pandas matplotlib scikit-learn seaborn tabulate"
   ]
  },
  {
   "cell_type": "code",
   "execution_count": null,
   "id": "a29eb218",
   "metadata": {},
   "outputs": [],
   "source": [
    "import numpy as np\n",
    "import pandas as pd\n",
    "import matplotlib.pyplot as plt\n",
    "import seaborn as sns\n",
    "import matplotlib.patches as mpatches\n",
    "from tabulate import tabulate\n",
    "from sklearn import linear_model\n",
    "from sklearn.metrics import mean_squared_error, mean_absolute_error"
   ]
  },
  {
   "cell_type": "markdown",
   "id": "4412ba39",
   "metadata": {},
   "source": [
    "## 2. and 3.1 Reading and describing the data"
   ]
  },
  {
   "cell_type": "code",
   "execution_count": null,
   "id": "9015f79b",
   "metadata": {},
   "outputs": [],
   "source": [
    "df = pd.read_csv('./data/housing.csv')\n",
    "df.describe()"
   ]
  },
  {
   "cell_type": "markdown",
   "id": "60699a9d",
   "metadata": {},
   "source": [
    "## 3.2 Exploratory Data Analysis"
   ]
  },
  {
   "cell_type": "code",
   "execution_count": null,
   "id": "1f4b7996",
   "metadata": {},
   "outputs": [],
   "source": [
    "# 3.2a Plot median house value vs. median income\n",
    "sns.scatterplot(data=df, x='median_house_value', y='median_income', color='red')\n",
    "plt.title('Median House Value vs. Median Income')\n",
    "plt.xlabel('Median House Value ($)')\n",
    "plt.ylabel('Median Income ($)')\n",
    "plt.show()"
   ]
  },
  {
   "cell_type": "markdown",
   "id": "0e3e41d4",
   "metadata": {},
   "source": [
    "### 3.2a Observations\n",
    "\n",
    "Looking at the scatterplot, it appears that median house value increases as median income increases. This appears to be a strong correlation. There is some noise or limit around the 500,000 mark for median house value. I would think population and number of households have less impact on the median house value. "
   ]
  },
  {
   "cell_type": "code",
   "execution_count": null,
   "id": "54b248c2",
   "metadata": {},
   "outputs": [],
   "source": [
    "# 3.2b Plot median house value vs. population\n",
    "sns.scatterplot(data=df, x='median_house_value', y='population', color='green')\n",
    "plt.title('Median House Value vs Population')\n",
    "plt.xlabel('Median House Value ($)')\n",
    "plt.ylabel('Population')\n",
    "plt.show()"
   ]
  },
  {
   "cell_type": "markdown",
   "id": "cec84162",
   "metadata": {},
   "source": [
    "### 3.2b Observations\n",
    "\n",
    "The median house value appears pretty evenly distributed across the populations, with some population outliers that might be skewing the data. Again the limit seems to be at 500,000 for the median house value, as the population samples appear in a vertical line there. I would've suspected population might affect median house value more than number of households."
   ]
  },
  {
   "cell_type": "code",
   "execution_count": null,
   "id": "eb9d07c7",
   "metadata": {},
   "outputs": [],
   "source": [
    "# 3.2c Plot median house value vs. number of households\n",
    "sns.scatterplot(data=df, x='median_house_value', y='households', color='blue')\n",
    "plt.title('Median House Value vs Number of Households')\n",
    "plt.xlabel('Median House Value ($)')\n",
    "plt.ylabel('Number of Households')\n",
    "plt.show()"
   ]
  },
  {
   "cell_type": "markdown",
   "id": "36912cd9",
   "metadata": {},
   "source": [
    "### 3.2c Observations\n",
    "\n",
    "In this plot we see that median house values of approximately 125,000 to 150,000 are largely found around 1,500 to 2,000 number of households. There are many outliers in this scatterplot. The basic shape of the scatterplot is similar however, which isn't surprising as population and number of households are related."
   ]
  },
  {
   "cell_type": "markdown",
   "id": "79219920",
   "metadata": {},
   "source": [
    "## 3.3 Description of the 4 variables used in this lab\n",
    "\n",
    "The source of the dataset can be found on kaggle at https://www.kaggle.com/datasets/camnugent/california-housing-prices and some description of the variables is given. The population is the number of people in an area, where the number of households will be smaller but related since there are some number of people in a household (so for my household, the population would be 3 but the number of households would be only 1). Median income is the income measured in 10's of thousands of dollars. The median house value must be somewhat old data, since houses have come up a lot in value since this set. "
   ]
  },
  {
   "cell_type": "markdown",
   "id": "28f4ffe5",
   "metadata": {},
   "source": [
    "# 4 Run 3 linear regressions"
   ]
  },
  {
   "cell_type": "code",
   "execution_count": null,
   "id": "9d1253ce",
   "metadata": {},
   "outputs": [],
   "source": [
    "\n",
    "model_median_income = linear_model.LinearRegression()\n",
    "model_median_income.fit(X=df[['median_house_value']], y=df['median_income'])\n",
    "\n",
    "model_population = linear_model.LinearRegression()\n",
    "model_population.fit(X=df[['median_house_value']], y=df['population'])\n",
    "\n",
    "model_households = linear_model.LinearRegression()\n",
    "model_households.fit(X=df[['median_house_value']], y=df['households'])"
   ]
  },
  {
   "cell_type": "markdown",
   "id": "640aae4c",
   "metadata": {},
   "source": [
    "# 5 Tabulate results showing slope and intercept, mean squared error (MSE), and mean absolute error (MAE)"
   ]
  },
  {
   "cell_type": "code",
   "execution_count": null,
   "id": "db417c0b",
   "metadata": {},
   "outputs": [],
   "source": [
    "results_of_models = [\n",
    "    [\n",
    "        'Median House Value vs. Median Income',\n",
    "        str(model_median_income.intercept_) + \", \" + str(model_median_income.coef_[0]),\n",
    "        mean_squared_error(df['median_income'], model_median_income.predict(df[['median_house_value']])),\n",
    "        mean_absolute_error(df['median_income'], model_median_income.predict(df[['median_house_value']]))\n",
    "    ],\n",
    "    [\n",
    "        'Median House Value vs. Population',\n",
    "        str(model_population.intercept_) + \", \" + str(model_population.coef_[0]),\n",
    "        mean_squared_error(df['population'], model_population.predict(df[['median_house_value']])),\n",
    "        mean_absolute_error(df['population'], model_population.predict(df[['median_house_value']]))\n",
    "    ],\n",
    "    [\n",
    "        'Median House Value vs. Number of Households',\n",
    "        str(model_households.intercept_) + \", \" + str(model_households.coef_[0]),\n",
    "        mean_squared_error(df['households'], model_households.predict(df[['median_house_value']])),\n",
    "        mean_absolute_error(df['households'], model_households.predict(df[['median_house_value']]))\n",
    "    ]\n",
    "]\n",
    "\n",
    "headers = ['Title','Intercept and Slope', 'Mean Squared Error', 'Mean Absolute Error']\n",
    "print(tabulate(results_of_models, headers=headers, tablefmt=\"github\"))\n"
   ]
  },
  {
   "cell_type": "markdown",
   "id": "49839dc2",
   "metadata": {},
   "source": [
    "# 6 Plot the resulting line, with intercept and slope, MSE, and MAE"
   ]
  },
  {
   "cell_type": "code",
   "execution_count": null,
   "id": "3e0867ce",
   "metadata": {},
   "outputs": [],
   "source": [
    "# 6a Plot median house value vs. median income\n",
    "sns.scatterplot(data=df, x='median_house_value', y='median_income', color='red')\n",
    "plt.title('Median House Value vs. Median Income')\n",
    "plt.xlabel('Median House Value ($)')\n",
    "plt.ylabel('Median Income ($)')\n",
    "\n",
    "slope = model_median_income.coef_[0]\n",
    "intercept = model_median_income.intercept_\n",
    "\n",
    "x_line = np.linspace(df['median_house_value'].min(), df['median_house_value'].max(), 100)\n",
    "y_line = slope * x_line + intercept\n",
    "\n",
    "plt.plot(x_line, y_line, color='black')\n",
    "patch1 = mpatches.Patch(color='black', label = f'Slope: {slope}, Intercept: {intercept}')\n",
    "patch2 = mpatches.Patch(color='black', label = f'MSE: {mean_squared_error(df[\"median_income\"], model_median_income.predict(df[[\"median_house_value\"]])):.2f}')\n",
    "patch3 = mpatches.Patch(color='black', label = f'MAE: {mean_absolute_error(df[\"median_income\"], model_median_income.predict(df[[\"median_house_value\"]])):.2f}')\n",
    "plt.legend(handles=[patch1, patch2, patch3], loc='upper left')\n",
    "plt.show()"
   ]
  },
  {
   "cell_type": "code",
   "execution_count": null,
   "id": "cf2fe426",
   "metadata": {},
   "outputs": [],
   "source": [
    "# 6b Plot median house value vs. population\n",
    "sns.scatterplot(data=df, x='median_house_value', y='population', color='green')\n",
    "plt.title('Median House Value vs Population')\n",
    "plt.xlabel('Median House Value ($)')\n",
    "plt.ylabel('Population')\n",
    "\n",
    "slope = model_population.coef_[0]\n",
    "intercept = model_population.intercept_\n",
    "\n",
    "x_line = np.linspace(df['median_house_value'].min(), df['median_house_value'].max(), 100)\n",
    "y_line = slope * x_line + intercept\n",
    "\n",
    "plt.plot(x_line, y_line, color='black')\n",
    "patch1 = mpatches.Patch(color='black', label = f'Slope: {slope}, Intercept: {intercept}')\n",
    "patch2 = mpatches.Patch(color='black', label = f'MSE: {mean_squared_error(df[\"population\"], model_population.predict(df[[\"median_house_value\"]])):.2f}')\n",
    "patch3 = mpatches.Patch(color='black', label = f'MAE: {mean_absolute_error(df[\"population\"], model_population.predict(df[[\"median_house_value\"]])):.2f}')\n",
    "plt.legend(handles=[patch1, patch2, patch3], loc='upper left')\n",
    "plt.show()"
   ]
  },
  {
   "cell_type": "code",
   "execution_count": null,
   "id": "6ec97a3c",
   "metadata": {},
   "outputs": [],
   "source": [
    "# 6c Plot median house value vs. number of households\n",
    "sns.scatterplot(data=df, x='median_house_value', y='households', color='blue')\n",
    "plt.title('Median House Value vs Number of Households')\n",
    "plt.xlabel('Median House Value ($)')\n",
    "plt.ylabel('Number of Households')\n",
    "\n",
    "slope = model_households.coef_[0]\n",
    "intercept = model_households.intercept_\n",
    "\n",
    "x_line = np.linspace(df['median_house_value'].min(), df['median_house_value'].max(), 100)\n",
    "y_line = slope * x_line + intercept\n",
    "\n",
    "plt.plot(x_line, y_line, color='black')\n",
    "patch1 = mpatches.Patch(color='black', label = f'Slope: {slope}, Intercept: {intercept}')\n",
    "patch2 = mpatches.Patch(color='black', label = f'MSE: {mean_squared_error(df[\"households\"], model_population.predict(df[[\"median_house_value\"]])):.2f}')\n",
    "patch3 = mpatches.Patch(color='black', label = f'MAE: {mean_absolute_error(df[\"households\"], model_population.predict(df[[\"median_house_value\"]])):.2f}')\n",
    "plt.legend(handles=[patch1, patch2, patch3], loc='upper left')\n",
    "plt.show()"
   ]
  },
  {
   "cell_type": "markdown",
   "id": "fe7a33cd",
   "metadata": {},
   "source": [
    "# 7 Conclusion\n",
    "\n",
    "The slope for median house value vs population and vs number of households was quite similar, though the former slopes slightly down and the latter slopes slightly up. Both of these two were almost straight lines however, which suggests to me there was little correlation. However, the MSE and MAE for each of these were quite high too, suggesting it's hard to find the best line of fit for these values. The MSE and MAE were lowest for median house value vs median income, suggesting this was the best model to use to predict house value. The diagonal line was very pronounced as well, which suggests to me there is a strong relationship between the two features. "
   ]
  }
 ],
 "metadata": {
  "kernelspec": {
   "display_name": ".venv",
   "language": "python",
   "name": "python3"
  },
  "language_info": {
   "codemirror_mode": {
    "name": "ipython",
    "version": 3
   },
   "file_extension": ".py",
   "mimetype": "text/x-python",
   "name": "python",
   "nbconvert_exporter": "python",
   "pygments_lexer": "ipython3",
   "version": "3.12.7"
  }
 },
 "nbformat": 4,
 "nbformat_minor": 5
}
